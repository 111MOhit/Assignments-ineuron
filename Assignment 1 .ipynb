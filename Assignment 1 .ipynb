{
 "cells": [
  {
   "cell_type": "code",
   "execution_count": null,
   "id": "39408dda-c589-4517-82ce-b6bea55c9b1b",
   "metadata": {},
   "outputs": [],
   "source": [
    "#Q(1).In the below elements which of them are values or an expression? \n",
    "# eg:- values can be integer or string and expressions will be mathematical operators.\n",
    " #Ans 1) * , - , / , + = They all are  mathematical operators therefore they are 'Expressions'\n",
    "# 2) \"hello\", -87.2 , 6 = They are 'String', 'float', 'integers' respectively therefore they all are 'Values'"
   ]
  },
  {
   "cell_type": "code",
   "execution_count": null,
   "id": "1e6aa2f5-b077-47b5-838b-df2d8ddcdc96",
   "metadata": {},
   "outputs": [],
   "source": [
    "#Q(2). What is the difference between string and variable?\n",
    "# Ans Variables are symbols that you can use to store data in a program. \n",
    "#You can think of them as an empty box that you fill with some data or value. \n",
    "#Strings are data, so we can use them to fill up a variable. "
   ]
  },
  {
   "cell_type": "code",
   "execution_count": 1,
   "id": "6fff8e2c-9589-4116-ae63-767ee1b11ceb",
   "metadata": {},
   "outputs": [],
   "source": [
    "#Q(3). Describe three different data types.\n",
    "#Ans int, float , str\n"
   ]
  },
  {
   "cell_type": "code",
   "execution_count": 2,
   "id": "a35b3384-7910-4814-98c3-9bdceeaf69ea",
   "metadata": {},
   "outputs": [],
   "source": [
    "#Q(4).What is an expression made up of? What do all expressions do?\n",
    "#Ans  n expression is a combination of operators and operands that is interpreted to produce some other value. In any programming language\n",
    " #,an expression is evaluated as per the precedence of its operators."
   ]
  },
  {
   "cell_type": "code",
   "execution_count": 4,
   "id": "ae820a0f-35f3-49c9-b1f5-6e75bb319419",
   "metadata": {},
   "outputs": [],
   "source": [
    "#Q(5). This assignment statements, like spam = 10. What is the difference between an\n",
    "# expression and a statement?\n",
    "#Ans A statement is an instruction that a Python interpreter can execute. it can be any value but expression has a specific meaning\n",
    "\n"
   ]
  },
  {
   "cell_type": "code",
   "execution_count": 1,
   "id": "f3f7c108-60df-453e-91ef-cf37328457ac",
   "metadata": {},
   "outputs": [],
   "source": [
    "#Q(6). After running the following code, what does the variable bacon contain?\n",
    "#bacon = 22\n",
    "#bacon + 1\n",
    "# Ans variable bacon contains 22"
   ]
  },
  {
   "cell_type": "code",
   "execution_count": 2,
   "id": "95ece750-3ec2-43cd-8cf0-ab1f500ff176",
   "metadata": {},
   "outputs": [],
   "source": [
    "#7. What should the values of the following two terms be?\n",
    "#spam +spamspam\n",
    "#spam * 3\n",
    "#Ans= (1) str spamspamspam and (2) str spamspamspam"
   ]
  },
  {
   "cell_type": "code",
   "execution_count": 5,
   "id": "0fe8cc6b-e220-4525-b1c5-0b2f448d2599",
   "metadata": {},
   "outputs": [],
   "source": [
    "#8. Why is eggs a valid variable name while 100 is invalid?\n",
    "#Ans because as we can see 100 is a number therefore it cannot be valid  variable name"
   ]
  },
  {
   "cell_type": "code",
   "execution_count": 4,
   "id": "62d42589-dd58-4861-b9d3-8c7b383076c4",
   "metadata": {},
   "outputs": [],
   "source": [
    "#9. What three functions can be used to get the integer, floating-point number, or string\n",
    "#version of a value?\n",
    "#Ans float(), int(), str()"
   ]
  },
  {
   "cell_type": "code",
   "execution_count": 10,
   "id": "11092be0-e6c6-4098-8672-c8300aad26ca",
   "metadata": {},
   "outputs": [],
   "source": [
    "#10. Why does this expression cause an error? How can you fix it?\n",
    "#I have eaten  + 99 +  burritos.\n",
    "#Ans Because 99 is a integer and not a string , only string and string can be concantenated by + operator \n",
    "#  str(99)+\"burritos\" this is correct way"
   ]
  },
  {
   "cell_type": "code",
   "execution_count": 15,
   "id": "c70df9d9-24e9-413d-88b1-d9271492865e",
   "metadata": {},
   "outputs": [
    {
     "data": {
      "text/plain": [
       "'99burritos'"
      ]
     },
     "execution_count": 15,
     "metadata": {},
     "output_type": "execute_result"
    }
   ],
   "source": [
    "str(99)+\"burritos\""
   ]
  },
  {
   "cell_type": "code",
   "execution_count": null,
   "id": "3114b6b4-7784-4e1b-8ae7-5a3ed4dd2f76",
   "metadata": {},
   "outputs": [],
   "source": []
  },
  {
   "cell_type": "code",
   "execution_count": null,
   "id": "dd88ccc3-ed4e-4070-8b1e-193754975298",
   "metadata": {},
   "outputs": [],
   "source": []
  }
 ],
 "metadata": {
  "kernelspec": {
   "display_name": "Python 3 (ipykernel)",
   "language": "python",
   "name": "python3"
  },
  "language_info": {
   "codemirror_mode": {
    "name": "ipython",
    "version": 3
   },
   "file_extension": ".py",
   "mimetype": "text/x-python",
   "name": "python",
   "nbconvert_exporter": "python",
   "pygments_lexer": "ipython3",
   "version": "3.10.6"
  }
 },
 "nbformat": 4,
 "nbformat_minor": 5
}
