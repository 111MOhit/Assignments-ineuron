{
 "cells": [
  {
   "cell_type": "code",
   "execution_count": 2,
   "id": "9b4119da-d69c-4bce-a6fc-8f4b0737ab8a",
   "metadata": {},
   "outputs": [
    {
     "data": {
      "text/plain": [
       "bool"
      ]
     },
     "execution_count": 2,
     "metadata": {},
     "output_type": "execute_result"
    }
   ],
   "source": [
    "#Q(1) 1.What are the two values of the Boolean data type? How do you write them?\n",
    "#Ans True and false are the two values of the boolean data type\n",
    "    \n",
    "a = True\n",
    "type(a)\n",
    "b= False\n",
    "type (b)\n",
    "\n"
   ]
  },
  {
   "cell_type": "code",
   "execution_count": 13,
   "id": "468f2785-b258-4972-a56e-b36233f0d20a",
   "metadata": {},
   "outputs": [],
   "source": [
    "#Q(2)2. What are the three different types of Boolean operators?\n",
    "#Ans The three basic boolean operators are: AND, OR, and NOT"
   ]
  },
  {
   "cell_type": "code",
   "execution_count": 5,
   "id": "2e493da5-3514-48e9-b171-7a5b644f6e30",
   "metadata": {},
   "outputs": [],
   "source": [
    "#Q(3). Make a list of each Boolean operators truth tables (i.e. every possible combination of Boolean\n",
    "#values for the operator and what it evaluate ).\n",
    "#Ans  True and True is True.\n",
    "\n",
    "# True and False is False.\n",
    "\n",
    "# False and True is False.\n",
    "\n",
    "# False and False is False.\n",
    "\n",
    "# True or True is True.\n",
    "\n",
    "# True or False is True.\n",
    "\n",
    "# False or True is True.\n",
    "\n",
    "# False or False is False.\n",
    "\n",
    "# not True is False.\n",
    "\n",
    "# not False is True."
   ]
  },
  {
   "cell_type": "code",
   "execution_count": 20,
   "id": "038bbfc0-580e-4252-a852-c39d9965bd58",
   "metadata": {},
   "outputs": [
    {
     "name": "stdout",
     "output_type": "stream",
     "text": [
      "False\n",
      "False\n",
      "True\n",
      "False\n",
      "False\n",
      "True\n"
     ]
    }
   ],
   "source": [
    "# (4). What are the values of the following expressions\n",
    "\n",
    "print ((5>4) and (3==5))\n",
    "print (not(5>4))\n",
    "print (5>4) or (3==5)\n",
    "print (not(5>4) or (3==5))\n",
    "print ((True and True) and (True==False))\n",
    "print (not(False) or not(True))"
   ]
  },
  {
   "cell_type": "code",
   "execution_count": 23,
   "id": "484f894f-e142-40ed-a696-005893121d6a",
   "metadata": {},
   "outputs": [],
   "source": [
    "# (5).What are the six comparison operators?\n",
    "# Ans. ==, !=, <, >, <=, and >="
   ]
  },
  {
   "cell_type": "code",
   "execution_count": 41,
   "id": "3da7f0e1-1eee-424c-a51e-81289d88c8bf",
   "metadata": {},
   "outputs": [
    {
     "name": "stdout",
     "output_type": "stream",
     "text": [
      "c = 1\n",
      "false\n"
     ]
    }
   ],
   "source": [
    "#6. How do you tell the difference between the equal to and assignment operators? Describe a\n",
    "#condition and when you would use one.\n",
    "#Ans. == is the equal to operator that compares two values and evaluates to a Boolean, \n",
    "#    while = is the assignment operator that stores a value in a variable.\n",
    "\n",
    "#eg \n",
    "c=1       #here = is used for assigning a value for c that is 1\n",
    "print(\"c =\",c)\n",
    "#eg for (==) which is equal to operator\n",
    " \n",
    "if (6==7):\n",
    "    print(\"true\")\n",
    "else :\n",
    "     print(\"false\")\n",
    "    \n",
    "\n"
   ]
  },
  {
   "cell_type": "code",
   "execution_count": 42,
   "id": "fe1422cd-a002-42b5-ba63-1d9ddcc2b7a5",
   "metadata": {},
   "outputs": [
    {
     "name": "stdout",
     "output_type": "stream",
     "text": [
      "ham\n",
      "spam\n",
      "spam\n"
     ]
    }
   ],
   "source": [
    "#Q (7). Identify the three blocks in this code:\n",
    "#\n",
    "spam = 0\n",
    "if spam == 10:\n",
    "    print('eggs') #Block 1\n",
    "if spam > 5:\n",
    "    print('bacon') #Block 2\n",
    "else:\n",
    "    print('ham') #Block 3\n",
    "    print('spam')\n",
    "    print('spam')\n"
   ]
  },
  {
   "cell_type": "code",
   "execution_count": 1,
   "id": "d7652086-125c-4658-a4f4-b1f2109278e8",
   "metadata": {},
   "outputs": [
    {
     "name": "stdin",
     "output_type": "stream",
     "text": [
      "enter the number 2\n"
     ]
    },
    {
     "name": "stdout",
     "output_type": "stream",
     "text": [
      "Howdy\n"
     ]
    }
   ],
   "source": [
    "#Q (8). Write code that prints Hello if 1 is stored in spam, prints Howdy if 2 is stored in spam, and prints\n",
    "#  Greetings! if anything else is stored in spam.\n",
    "spam = int(input(\"enter the number\"))\n",
    "if spam == 1:\n",
    "        print(\"Hello\")\n",
    "elif spam==2:\n",
    "        print(\"Howdy\")\n",
    "        \n",
    "else :\n",
    "      print(\"Greetings\")\n",
    "    "
   ]
  },
  {
   "cell_type": "code",
   "execution_count": null,
   "id": "f57161e8-154b-437a-ba95-d1aee3c8ea2d",
   "metadata": {},
   "outputs": [],
   "source": [
    "#Q (9).If your programme is stuck in an endless loop, what keys you’ll press?\n",
    "#Ans pressing ctrl+c will end loop\n",
    "\n"
   ]
  },
  {
   "cell_type": "code",
   "execution_count": 12,
   "id": "e4424953-3a6c-4a85-881c-9f8d4ad6654f",
   "metadata": {},
   "outputs": [
    {
     "name": "stdout",
     "output_type": "stream",
     "text": [
      "0 1 2 3 4 5 6 Breaked\n",
      "0 1 2 3 4 5 6 8 9 "
     ]
    }
   ],
   "source": [
    "#Q (10) How can you tell the difference between break and continue?\n",
    "for i in range(10):\n",
    "    if(i==7):\n",
    "        break\n",
    "    print(i,end=\" \" )\n",
    "    \n",
    "print(\"Breaked\")\n",
    "#CONTINUE\n",
    "for i in range(10):\n",
    "    if(i==7):\n",
    "        continue\n",
    "    print(i,end=\" \")\n",
    "    \n",
    "\n"
   ]
  },
  {
   "cell_type": "code",
   "execution_count": null,
   "id": "1e2b7659-97d4-4bfd-8e6e-23693bd764b6",
   "metadata": {},
   "outputs": [],
   "source": []
  },
  {
   "cell_type": "code",
   "execution_count": 25,
   "id": "9de009a2-3dfa-4dd4-a838-1016d413b799",
   "metadata": {},
   "outputs": [
    {
     "name": "stdout",
     "output_type": "stream",
     "text": [
      "0\n",
      "1\n",
      "2\n",
      "3\n",
      "4\n",
      "5\n",
      "6\n",
      "7\n",
      "8\n",
      "9\n",
      "----------------------------\n",
      "0\n",
      "1\n",
      "2\n",
      "3\n",
      "4\n",
      "5\n",
      "6\n",
      "7\n",
      "8\n",
      "9\n",
      "----------------------------\n",
      "0\n",
      "1\n",
      "2\n",
      "3\n",
      "4\n",
      "5\n",
      "6\n",
      "7\n",
      "8\n",
      "9\n"
     ]
    }
   ],
   "source": [
    "#Q11. In a for loop, what is the difference between range(10), range(0, 10), and range(0, 10, 1)?\n",
    "for i in range(10):\n",
    "    print(i)\n",
    "print(\"----------------------------\")\n",
    "    \n",
    "for i in range(0,10):\n",
    "    print(i)\n",
    "print(\"----------------------------\")\n",
    "\n",
    "for i in range(0,10,1):\n",
    "         print(i)\n"
   ]
  },
  {
   "cell_type": "code",
   "execution_count": 1,
   "id": "92aac466-cb80-4db8-9b49-4116e49e03ba",
   "metadata": {},
   "outputs": [],
   "source": [
    "#From the above output we can conclude that they all do the same thing.\n",
    "#The range(10) call ranges from 0 up to (but not including) 10, range(0, 10) tells the loop to start at 0, \n",
    "#and range(0, 10, 1) tells the loop to increase the variable by 1 on each iteration."
   ]
  },
  {
   "cell_type": "code",
   "execution_count": 31,
   "id": "695e8c6e-05e1-41e4-b6fe-d0eab6a93a59",
   "metadata": {},
   "outputs": [
    {
     "name": "stdout",
     "output_type": "stream",
     "text": [
      "0\n",
      "1\n",
      "2\n",
      "3\n",
      "4\n",
      "5\n",
      "6\n",
      "7\n",
      "8\n",
      "9\n",
      "10\n",
      "While Loop\n",
      "1\n",
      "2\n",
      "3\n",
      "4\n",
      "5\n",
      "6\n",
      "7\n",
      "8\n",
      "9\n",
      "10\n"
     ]
    }
   ],
   "source": [
    "#Q12. Write a short program that prints the numbers 1 to 10 using a for loop. \n",
    "#Then write an equivalent program that prints the numbers 1 to 10 using a while loop.if \n",
    "for i in range (11):\n",
    "    \n",
    "    print(i, )\n",
    "    \n",
    "    \n",
    "print(\"While Loop\")    \n",
    "#While Loop\n",
    "i=0\n",
    "while(i<10):\n",
    "    i=i+1\n",
    "    print(i)\n",
    "\n"
   ]
  },
  {
   "cell_type": "code",
   "execution_count": null,
   "id": "0e7806cc-0cd8-42c3-a41e-da7df7130e93",
   "metadata": {},
   "outputs": [],
   "source": [
    "#Q13. If you had a function named bacon() inside a module named spam, how would you call it after importing spam?\n",
    "#ans "
   ]
  }
 ],
 "metadata": {
  "kernelspec": {
   "display_name": "Python 3 (ipykernel)",
   "language": "python",
   "name": "python3"
  },
  "language_info": {
   "codemirror_mode": {
    "name": "ipython",
    "version": 3
   },
   "file_extension": ".py",
   "mimetype": "text/x-python",
   "name": "python",
   "nbconvert_exporter": "python",
   "pygments_lexer": "ipython3",
   "version": "3.10.6"
  }
 },
 "nbformat": 4,
 "nbformat_minor": 5
}
