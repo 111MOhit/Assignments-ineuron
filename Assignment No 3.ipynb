{
 "cells": [
  {
   "cell_type": "code",
   "execution_count": 2,
   "id": "cd55aa35-e917-4530-a474-7b6ee82432ec",
   "metadata": {},
   "outputs": [],
   "source": [
    "# Q1. Why are functions advantageous to have in your programs?\n",
    "\n",
    "# Ans. Advantages of having functions:\n",
    "# Functions reduce the need for duplicate code. This makes programs shorter, easier to read, and easier to update."
   ]
  },
  {
   "cell_type": "code",
   "execution_count": 3,
   "id": "b2219b0c-6b90-4813-886c-63bc100a9b44",
   "metadata": {},
   "outputs": [],
   "source": [
    "# Q2. When does the code in a function run:when it's specified or when it's called?\n",
    "\n",
    "#  Ans . Code in the function runs when the function is called"
   ]
  },
  {
   "cell_type": "code",
   "execution_count": 4,
   "id": "5250f2e0-af70-4e3e-a333-b412ba0a2c74",
   "metadata": {},
   "outputs": [],
   "source": [
    "# Q3. What statement creates a function?\n",
    "\n",
    "# Ans. The def statement defines (i.e. creates) a function.\n",
    "# Eg .\n",
    "def my_func():\n",
    "    pass"
   ]
  },
  {
   "cell_type": "code",
   "execution_count": 5,
   "id": "93f1ea37-e36a-4296-8ba0-9e4e2ef68b82",
   "metadata": {},
   "outputs": [],
   "source": [
    "# Q4. What is the difference between a function and a function call?\n",
    "#def of func\n",
    "def my_func(): \n",
    "    pass \n",
    "my_func() #calling of function\n",
    "\n",
    "#A function consists of the def statement and the code in its def clause.\n",
    "\n",
    "#A function call is what moves the program execution into the function, and the function call evaluates to the function's return value."
   ]
  },
  {
   "cell_type": "code",
   "execution_count": 6,
   "id": "d635bfc8-92b8-478e-a003-637d1333cb0d",
   "metadata": {},
   "outputs": [],
   "source": [
    "#Q5. How many global scopes are there in a Python program? How many local scopes?\n",
    "\n",
    "# Ans .There's only one global Python scope per program execution. This scope remains in existence until the program terminates \n",
    "# , and a local scope is created whenever a function is called.\n",
    "\n"
   ]
  },
  {
   "cell_type": "code",
   "execution_count": 7,
   "id": "1e318277-6d58-48ef-b207-a395a84c0480",
   "metadata": {},
   "outputs": [],
   "source": [
    "#Q6. What happens to variables in a local scope when the function call returns?\n",
    "\n",
    "# Ans. When a function returns, the local scope is destroyed."
   ]
  },
  {
   "cell_type": "code",
   "execution_count": 8,
   "id": "6a33b7dd-77be-4167-9d01-9b14a2d88858",
   "metadata": {},
   "outputs": [],
   "source": [
    "#Q7. What is the concept of a return value? Is it possible to have a return value in an expression?\n",
    "\n",
    "# Ans. A return value is the value that a function call evaluates to. Like any value, a return value can be used as part of an expression."
   ]
  },
  {
   "cell_type": "code",
   "execution_count": 9,
   "id": "4c935372-12cb-4965-a63a-dcc3f0026a97",
   "metadata": {},
   "outputs": [],
   "source": [
    "#Q8. If a function does not have a return statement, what is the return value of a call to that function?\n",
    "\n",
    "#Ans. If the funtion does not have a return statement it will not return anything."
   ]
  },
  {
   "cell_type": "code",
   "execution_count": 10,
   "id": "ee362b71-e439-4fe0-b95e-a05f9d42a4ce",
   "metadata": {},
   "outputs": [],
   "source": [
    "#Q8. If a function does not have a return statement, what is the return value of a call to that function?\n",
    "\n",
    "# Ans. If the funtion does not have a return statement it will not return anything."
   ]
  },
  {
   "cell_type": "code",
   "execution_count": 11,
   "id": "37d7638c-251c-44c8-ae60-13c4bf0e6a2e",
   "metadata": {},
   "outputs": [],
   "source": [
    "#WQ10. What is the data type of None?\n",
    "\n",
    "#Ans . The data type of None is NoneType."
   ]
  },
  {
   "cell_type": "code",
   "execution_count": 12,
   "id": "62cf2c6c-6619-46e9-aa9b-5b93c2f22c79",
   "metadata": {},
   "outputs": [],
   "source": [
    "#Q11. What does the sentence import areallyourpetsnamederic do?\n",
    "\n",
    "#Ans .That import statement imports a module named areallyourpetsnamederic. (But a module of this name doesnt exists in Python)"
   ]
  },
  {
   "cell_type": "code",
   "execution_count": 14,
   "id": "3b1da299-8a20-44f3-9c1c-8a32a4f9229d",
   "metadata": {},
   "outputs": [],
   "source": [
    "#Q12. If you had a bacon() feature in a spam module, what would you call it after importing spam?\n",
    "\n",
    "#Ans .import spam\n",
    "#spam.bacon()"
   ]
  },
  {
   "cell_type": "code",
   "execution_count": 15,
   "id": "e3f4eeb1-0ff8-427b-a39e-32f768650eff",
   "metadata": {},
   "outputs": [],
   "source": [
    "#Q13. What can you do to save a programme from crashing if it encounters an error?\n",
    "\n",
    "# Ans. We can use try except clause to save a program from crashing."
   ]
  },
  {
   "cell_type": "code",
   "execution_count": 18,
   "id": "5b4a9dde-04dc-4c4d-962b-1ebb5871e9b2",
   "metadata": {},
   "outputs": [],
   "source": [
    "#vQ14. What is the purpose of the try clause? What is the purpose of the except clause?\n",
    "\n",
    "#vAns. Try and Except clause is used to handle the errors within our code . \n",
    "#the try block is used to check some code for errors i.e the code inside the try block will execute when there is no error in the program. \n",
    "#Whereas the code inside the except block will execute whenever the program encounters some error in the try block.\n",
    "\n",
    "# Eg. try:\n",
    "# Code\n",
    "# except:\n",
    "# Executed if error in the\n",
    "# try block"
   ]
  },
  {
   "cell_type": "code",
   "execution_count": null,
   "id": "81436892-d020-4805-9aa1-21aabba23d02",
   "metadata": {},
   "outputs": [],
   "source": []
  }
 ],
 "metadata": {
  "kernelspec": {
   "display_name": "Python 3 (ipykernel)",
   "language": "python",
   "name": "python3"
  },
  "language_info": {
   "codemirror_mode": {
    "name": "ipython",
    "version": 3
   },
   "file_extension": ".py",
   "mimetype": "text/x-python",
   "name": "python",
   "nbconvert_exporter": "python",
   "pygments_lexer": "ipython3",
   "version": "3.10.6"
  }
 },
 "nbformat": 4,
 "nbformat_minor": 5
}
