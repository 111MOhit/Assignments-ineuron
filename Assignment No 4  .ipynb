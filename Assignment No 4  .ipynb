{
 "cells": [
  {
   "cell_type": "code",
   "execution_count": 2,
   "id": "befa3164-b3f4-4d45-8a73-090d200d1382",
   "metadata": {},
   "outputs": [],
   "source": [
    "# 1. What exactly is []?\n",
    "# Ans = [] is a empty list  for eg. a=[]\n"
   ]
  },
  {
   "cell_type": "code",
   "execution_count": 4,
   "id": "6c9a40a9-3036-47d9-8539-e4a3b4fd9e57",
   "metadata": {},
   "outputs": [
    {
     "data": {
      "text/plain": [
       "[2, 4, 'hello', 8, 10]"
      ]
     },
     "execution_count": 4,
     "metadata": {},
     "output_type": "execute_result"
    }
   ],
   "source": [
    "# 2. In a list of values stored in a variable called spam, how would you assign the value &#39;hello&#39; as the\n",
    "# third value? (Assume [2, 4, 6, 8, 10] are in spam.)\n",
    "# Ans = \n",
    "spam=[2,4,6,8,10]\n",
    "spam[2]='hello'\n",
    "spam\n",
    "         "
   ]
  },
  {
   "cell_type": "code",
   "execution_count": 11,
   "id": "338eb1c1-34ed-4781-89fe-4259e7d60061",
   "metadata": {},
   "outputs": [
    {
     "data": {
      "text/plain": [
       "'d'"
      ]
     },
     "execution_count": 11,
     "metadata": {},
     "output_type": "execute_result"
    }
   ],
   "source": [
    "# Lets pretend the spam includes the list ['a', 'b','c','d'] for the next three queries.\n",
    "# 3.What is the value of spam[int(int(3 * 2) / 11)]?\n",
    "spam= ['a','b','c','d']\n",
    "spam[int(int('3' * 2) / 11)]"
   ]
  },
  {
   "cell_type": "code",
   "execution_count": 13,
   "id": "63851cbc-4a99-4af0-82f3-cb11360a52b4",
   "metadata": {},
   "outputs": [
    {
     "data": {
      "text/plain": [
       "'d'"
      ]
     },
     "execution_count": 13,
     "metadata": {},
     "output_type": "execute_result"
    }
   ],
   "source": [
    "# 4. What is the value of spam[-1]?\n",
    "\n",
    "spam[-1]\n"
   ]
  },
  {
   "cell_type": "code",
   "execution_count": 15,
   "id": "baea644b-b16c-4a1f-9098-20927fce2539",
   "metadata": {},
   "outputs": [
    {
     "data": {
      "text/plain": [
       "['a', 'b']"
      ]
     },
     "execution_count": 15,
     "metadata": {},
     "output_type": "execute_result"
    }
   ],
   "source": [
    "#5. What is the value of spam[:2]?\n",
    "spam[:2]"
   ]
  },
  {
   "cell_type": "code",
   "execution_count": 3,
   "id": "b89798bb-85c3-4f45-a9b9-e2c56e11fa55",
   "metadata": {},
   "outputs": [
    {
     "data": {
      "text/plain": [
       "1"
      ]
     },
     "execution_count": 3,
     "metadata": {},
     "output_type": "execute_result"
    }
   ],
   "source": [
    "# * Let's pretend bacon has the list [3.14, 'cat' 11, 'cat' ,True] for the next three questions.*\n",
    "# 6 . What is the value of bacon.index('cat')?\n",
    "\n",
    "bacon=[3.14,'cat', 11,'cat' ,True]\n",
    "bacon.index('cat')\n"
   ]
  },
  {
   "cell_type": "code",
   "execution_count": 4,
   "id": "cc6ca259-91e2-4a95-bcbd-52e434c4e27b",
   "metadata": {},
   "outputs": [
    {
     "data": {
      "text/plain": [
       "[3.14, 'cat', 11, 'cat', True, 99]"
      ]
     },
     "execution_count": 4,
     "metadata": {},
     "output_type": "execute_result"
    }
   ],
   "source": [
    "# 7. How does bacon.append(99) change the look of the list value in bacon?\n",
    "bacon.append(99)\n",
    "bacon\n"
   ]
  },
  {
   "cell_type": "code",
   "execution_count": 6,
   "id": "08e34460-890e-4a1e-a613-0a20f51e971c",
   "metadata": {},
   "outputs": [
    {
     "data": {
      "text/plain": [
       "[3.14, 11, True, 99]"
      ]
     },
     "execution_count": 6,
     "metadata": {},
     "output_type": "execute_result"
    }
   ],
   "source": [
    "# 8. How does bacon.remove(&#39;cat&#39;) change the look of the list in bacon?\\\n",
    "bacon.remove('cat')\n",
    "bacon"
   ]
  },
  {
   "cell_type": "code",
   "execution_count": 19,
   "id": "76a590cc-1f61-448a-8e0e-47d9044e7919",
   "metadata": {},
   "outputs": [],
   "source": [
    "# 9. What are the list concatenation and list replication operators?\n",
    "# ( * ) is list replication operator ( + ) is list concatination operator\n"
   ]
  },
  {
   "cell_type": "code",
   "execution_count": 13,
   "id": "4fbcc30f-a419-4058-a1d5-1f656a252029",
   "metadata": {},
   "outputs": [
    {
     "data": {
      "text/plain": [
       "[1, 4, 2, 5]"
      ]
     },
     "execution_count": 13,
     "metadata": {},
     "output_type": "execute_result"
    }
   ],
   "source": [
    "l1 = [1,4]\n",
    "l2 = [2,5]\n",
    "# list concatination\n",
    "l1+l2"
   ]
  },
  {
   "cell_type": "code",
   "execution_count": 20,
   "id": "a02a47d4-1373-4a85-9b23-f3821f98964b",
   "metadata": {},
   "outputs": [
    {
     "data": {
      "text/plain": [
       "[7, 4, 7, 4, 7, 4]"
      ]
     },
     "execution_count": 20,
     "metadata": {},
     "output_type": "execute_result"
    }
   ],
   "source": [
    "l1 = [7,4]\n",
    "\n",
    "# list replication\n",
    "l1*3\n",
    "     "
   ]
  },
  {
   "cell_type": "code",
   "execution_count": null,
   "id": "8e24732c-3917-4c69-9947-c139093b818b",
   "metadata": {},
   "outputs": [],
   "source": [
    "#10. What is difference between the list methods append() and insert()?\n",
    "# append() Appends object to the end of the list\n",
    "# insert() Insert object before index"
   ]
  },
  {
   "cell_type": "code",
   "execution_count": 30,
   "id": "c9984fe9-1385-4f9b-ab6b-45a7b87030a3",
   "metadata": {},
   "outputs": [
    {
     "data": {
      "text/plain": [
       "['a', 'b', 'c', 'd', 'e']"
      ]
     },
     "execution_count": 30,
     "metadata": {},
     "output_type": "execute_result"
    }
   ],
   "source": [
    "m = [\"a\",\"b\",\"c\",\"d\"]\n",
    "m.append(\"e\")\n",
    "m"
   ]
  },
  {
   "cell_type": "code",
   "execution_count": 32,
   "id": "992ca4aa-2f8c-47d9-8993-a74ff2a131cd",
   "metadata": {},
   "outputs": [
    {
     "data": {
      "text/plain": [
       "['a', 'b', 'c', 'hello', 'hello', 'd', 'e']"
      ]
     },
     "execution_count": 32,
     "metadata": {},
     "output_type": "execute_result"
    }
   ],
   "source": [
    "m.insert(3,'hello')\n",
    "m"
   ]
  },
  {
   "cell_type": "code",
   "execution_count": 39,
   "id": "d7072eff-eacb-4709-bcc0-db9501f9d779",
   "metadata": {},
   "outputs": [
    {
     "data": {
      "text/plain": [
       "['ab', 'ef']"
      ]
     },
     "execution_count": 39,
     "metadata": {},
     "output_type": "execute_result"
    }
   ],
   "source": [
    "# 11. What are the two methods for removing items from a list?\n",
    "#Using Remove function\n",
    "Moh = ['ab','cd','ef']\n",
    "Moh.remove(\"cd\")\n",
    "Moh"
   ]
  },
  {
   "cell_type": "code",
   "execution_count": 40,
   "id": "795028ff-98a1-415e-942f-5d06cde931e0",
   "metadata": {},
   "outputs": [
    {
     "data": {
      "text/plain": [
       "['ab']"
      ]
     },
     "execution_count": 40,
     "metadata": {},
     "output_type": "execute_result"
    }
   ],
   "source": [
    "Moh.pop()\n",
    "Moh"
   ]
  },
  {
   "cell_type": "code",
   "execution_count": 1,
   "id": "3f9cf9ca-d985-4328-a21d-40d8e4e81f02",
   "metadata": {},
   "outputs": [],
   "source": [
    "# 12. Describe how list values and string values are identical.\n",
    "# 1.both lists and strings can be passed to len()\n",
    "# 2.Have indexes and slices\n",
    "# 3.Can be used in for loops\n",
    "# 4>Can be concatenated or replicated\n",
    "# 5>Can be used with the in and not in operators"
   ]
  },
  {
   "cell_type": "code",
   "execution_count": 2,
   "id": "6469937f-91d1-4e8b-8d95-a51319b0e602",
   "metadata": {},
   "outputs": [],
   "source": [
    "# 13. What the difference between tuples and lists?\n",
    "# Lists : are mutable - they can have values added, removed, or changed. lists use the square brackets, [ and ]\n",
    "# Tuples : are immutable; they cannot be changed at all. Tuples are written using parentheses, ( and )"
   ]
  },
  {
   "cell_type": "code",
   "execution_count": 3,
   "id": "2638789e-f7dd-45bf-9b47-f5f6e3351453",
   "metadata": {},
   "outputs": [
    {
     "data": {
      "text/plain": [
       "(42,)"
      ]
     },
     "execution_count": 3,
     "metadata": {},
     "output_type": "execute_result"
    }
   ],
   "source": [
    "# 14.How do you type a tuple value that only contains the integer 42?\n",
    "tuple= (42,)\n",
    "tuple"
   ]
  },
  {
   "cell_type": "code",
   "execution_count": 12,
   "id": "afe50f6d-e450-4948-818b-ef6cdffe2ebf",
   "metadata": {},
   "outputs": [
    {
     "data": {
      "text/plain": [
       "[10, 15]"
      ]
     },
     "execution_count": 12,
     "metadata": {},
     "output_type": "execute_result"
    }
   ],
   "source": [
    "# 15. How do you get a list value's tuple form? How do you get a tuple value's list form?\n",
    "Li=[10,15]\n",
    "tuple=(Li)\n",
    "tuple"
   ]
  },
  {
   "cell_type": "code",
   "execution_count": 13,
   "id": "891a5c80-ef69-41da-aff0-6568ead0fbb8",
   "metadata": {},
   "outputs": [],
   "source": [
    "# 16. Variables that \"contain\" list values are not necessarily lists themselves. Instead, what do they contain?\n",
    "# Ans. They contain references to list values\n",
    "\n"
   ]
  },
  {
   "cell_type": "code",
   "execution_count": null,
   "id": "4e37834f-f469-427e-ba98-12b4b374fad9",
   "metadata": {},
   "outputs": [],
   "source": [
    "# 17.How do you distinguish between copy.copy() and copy.deepcopy()?"
   ]
  }
 ],
 "metadata": {
  "kernelspec": {
   "display_name": "Python 3 (ipykernel)",
   "language": "python",
   "name": "python3"
  },
  "language_info": {
   "codemirror_mode": {
    "name": "ipython",
    "version": 3
   },
   "file_extension": ".py",
   "mimetype": "text/x-python",
   "name": "python",
   "nbconvert_exporter": "python",
   "pygments_lexer": "ipython3",
   "version": "3.10.6"
  }
 },
 "nbformat": 4,
 "nbformat_minor": 5
}
