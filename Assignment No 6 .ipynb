{
 "cells": [
  {
   "cell_type": "code",
   "execution_count": 7,
   "id": "7e0e2c7f-734b-48f9-bacc-75bcccb6b024",
   "metadata": {},
   "outputs": [
    {
     "name": "stdout",
     "output_type": "stream",
     "text": [
      "my name  is  mohit\n"
     ]
    }
   ],
   "source": [
    "# 1. What are escape characters, and how do you use them?\n",
    "# Ans \n",
    "\"\"\" In Python strings, the backslash \"\" is a special character, also called the \"escape\" character. \n",
    "It is used in representing certain whitespace characters: \"\\t\" is a tab, \"\\n\" is a newline, and \"\\r\" is a carriage return\n",
    "\"\"\"\n",
    "print(\"my \\\n",
    "name \\\n",
    " is\\\n",
    "  mohit\")   "
   ]
  },
  {
   "cell_type": "code",
   "execution_count": 8,
   "id": "c7e52dff-aa3a-4ee1-89ed-c335014efa75",
   "metadata": {},
   "outputs": [],
   "source": [
    "# 2. What do the escape characters n and t stand for?\n",
    "\n",
    "# ans - \"\\t\" is a tab, \"\\n\" is a newline\n",
    "     "
   ]
  },
  {
   "cell_type": "code",
   "execution_count": 12,
   "id": "bd2b7ccb-856d-49e2-992f-8fcf79eb7e56",
   "metadata": {},
   "outputs": [
    {
     "name": "stdout",
     "output_type": "stream",
     "text": [
      "its a back slash \\ in a line\n"
     ]
    }
   ],
   "source": [
    "# 3. What is the way to include backslash characters in a string? \n",
    "print('its a back slash \\ in a line')"
   ]
  },
  {
   "cell_type": "code",
   "execution_count": 1,
   "id": "b5ff3cdb-6b58-4fd1-9330-7cbbe1c87ca4",
   "metadata": {},
   "outputs": [
    {
     "name": "stdout",
     "output_type": "stream",
     "text": [
      "howl's moving cast\n"
     ]
    }
   ],
   "source": [
    "# 4.The string \"Howl's Moving Castle\" is a correct value. Why isn't the single quote character in the word Howl's not escaped a problem?\n",
    "# ANS - The single quote in Howl's is fine because you've used double quotes to mark the beginning and end of the string. like wise we can use double quotes in with single quotes\n",
    "\n",
    "print(\"howl's moving cast\")"
   ]
  },
  {
   "cell_type": "code",
   "execution_count": 5,
   "id": "b97a01e3-9c14-44d9-8e81-6d7ee9572177",
   "metadata": {},
   "outputs": [
    {
     "name": "stdout",
     "output_type": "stream",
     "text": [
      "print something with newline \n",
      " newline\n"
     ]
    }
   ],
   "source": [
    "#5. How do you write a string of newlines if you don't want to use the n character?\n",
    "print(\"print something with newline \", end = '\\n ')\n",
    "print(\"newline\")"
   ]
  },
  {
   "cell_type": "code",
   "execution_count": 14,
   "id": "b54d74d9-3c76-4e01-bb96-84d253ef49bb",
   "metadata": {},
   "outputs": [],
   "source": [
    "# 6. How do you write a string of newlines if you don't want to use the n character?\n",
    " \n",
    "# 'Hello, world!'[1] 'Hello, world!'[0:5] 'Hello, world!'[:5] 'Hello, world!'[3:]\n"
   ]
  },
  {
   "cell_type": "code",
   "execution_count": 10,
   "id": "f0e7d4af-80e2-48c1-affb-602d067f6cc0",
   "metadata": {},
   "outputs": [
    {
     "data": {
      "text/plain": [
       "'e'"
      ]
     },
     "execution_count": 10,
     "metadata": {},
     "output_type": "execute_result"
    }
   ],
   "source": [
    "'hello,world!'[1]"
   ]
  },
  {
   "cell_type": "code",
   "execution_count": 11,
   "id": "8e1cc4ec-e5f0-41d9-a265-64dd3600b97f",
   "metadata": {},
   "outputs": [
    {
     "data": {
      "text/plain": [
       "'hello'"
      ]
     },
     "execution_count": 11,
     "metadata": {},
     "output_type": "execute_result"
    }
   ],
   "source": [
    "'hello , world !'[0:5]"
   ]
  },
  {
   "cell_type": "code",
   "execution_count": 12,
   "id": "b13ebe79-0a0b-4e2a-ae07-397845b57d34",
   "metadata": {},
   "outputs": [
    {
     "data": {
      "text/plain": [
       "'hello'"
      ]
     },
     "execution_count": 12,
     "metadata": {},
     "output_type": "execute_result"
    }
   ],
   "source": [
    "'hello ,  world !'[:5]"
   ]
  },
  {
   "cell_type": "code",
   "execution_count": 13,
   "id": "96a35920-efd2-45e6-9a88-d7560879c20e",
   "metadata": {},
   "outputs": [
    {
     "data": {
      "text/plain": [
       "'lo , world !'"
      ]
     },
     "execution_count": 13,
     "metadata": {},
     "output_type": "execute_result"
    }
   ],
   "source": [
    "'hello , world !' [3:]"
   ]
  },
  {
   "cell_type": "code",
   "execution_count": 15,
   "id": "94d149fb-03c8-4a20-9e32-8181b79e7e39",
   "metadata": {},
   "outputs": [],
   "source": [
    "# 7. What are the values of the following expressions? \n",
    "# 'Hello'.upper() 'Hello'.upper().isupper() 'Hello'.upper().lower()"
   ]
  },
  {
   "cell_type": "code",
   "execution_count": 20,
   "id": "d36983ed-90d7-4198-a876-2c6c3e1b7572",
   "metadata": {},
   "outputs": [
    {
     "data": {
      "text/plain": [
       "'HELLO'"
      ]
     },
     "execution_count": 20,
     "metadata": {},
     "output_type": "execute_result"
    }
   ],
   "source": [
    "'hello'.upper() "
   ]
  },
  {
   "cell_type": "code",
   "execution_count": 24,
   "id": "825600ca-9ae1-4f48-962e-e827f01093e3",
   "metadata": {},
   "outputs": [
    {
     "data": {
      "text/plain": [
       "True"
      ]
     },
     "execution_count": 24,
     "metadata": {},
     "output_type": "execute_result"
    }
   ],
   "source": [
    "'hello'.upper ().isupper()"
   ]
  },
  {
   "cell_type": "code",
   "execution_count": 26,
   "id": "9a45a747-954b-4cde-97bc-a9d62be84265",
   "metadata": {},
   "outputs": [
    {
     "data": {
      "text/plain": [
       "'hello'"
      ]
     },
     "execution_count": 26,
     "metadata": {},
     "output_type": "execute_result"
    }
   ],
   "source": [
    "'Hello'.upper().lower()"
   ]
  },
  {
   "cell_type": "code",
   "execution_count": 27,
   "id": "22774d51-43a1-4ab8-92d0-b2894a906088",
   "metadata": {},
   "outputs": [],
   "source": [
    "# 8. What are the values of the following expressions ?\n",
    " # Remember, remember, the fifth of July.'.split() \n",
    "    #'-'.join('There can only one.'.split())\n",
    "\n"
   ]
  },
  {
   "cell_type": "code",
   "execution_count": 28,
   "id": "18252e7a-526b-4249-a19e-112f4ba19b8c",
   "metadata": {},
   "outputs": [
    {
     "data": {
      "text/plain": [
       "['Remeber', ',', 'remember', ',', 'the', 'fifth', 'of', 'july', '.']"
      ]
     },
     "execution_count": 28,
     "metadata": {},
     "output_type": "execute_result"
    }
   ],
   "source": [
    " 'Remeber , remember , the fifth of july .' .split()"
   ]
  },
  {
   "cell_type": "code",
   "execution_count": 1,
   "id": "ac1272cb-e640-4b53-9b43-e08f65439a12",
   "metadata": {},
   "outputs": [
    {
     "data": {
      "text/plain": [
       "'There-can-only-one.'"
      ]
     },
     "execution_count": 1,
     "metadata": {},
     "output_type": "execute_result"
    }
   ],
   "source": [
    "'-'.join('There can only one.'.split())\n"
   ]
  },
  {
   "cell_type": "code",
   "execution_count": 2,
   "id": "3a8ae171-2789-4263-816c-c5cbfbaaf195",
   "metadata": {},
   "outputs": [],
   "source": [
    "# 9.What are the methods for right-justifying, left-justifying, and centering a string?\n",
    " "
   ]
  },
  {
   "cell_type": "code",
   "execution_count": 6,
   "id": "608dee83-e2a3-4ff6-9f75-27c2736173b4",
   "metadata": {},
   "outputs": [
    {
     "data": {
      "text/plain": [
       "'mohit-----'"
      ]
     },
     "execution_count": 6,
     "metadata": {},
     "output_type": "execute_result"
    }
   ],
   "source": [
    "# left .justified \n",
    "str = ('mohit')\n",
    "str.ljust(10,\"-\")"
   ]
  },
  {
   "cell_type": "code",
   "execution_count": 8,
   "id": "b070e297-7f07-44f8-9211-288b7fa62012",
   "metadata": {},
   "outputs": [
    {
     "data": {
      "text/plain": [
       "'--------------mohtit'"
      ]
     },
     "execution_count": 8,
     "metadata": {},
     "output_type": "execute_result"
    }
   ],
   "source": [
    "# right justified\n",
    "str = 'mohtit'\n",
    "str.rjust(20 , \"-\")"
   ]
  },
  {
   "cell_type": "code",
   "execution_count": 17,
   "id": "69d173c6-e9d6-48a0-97cd-0f4a4581487e",
   "metadata": {},
   "outputs": [
    {
     "data": {
      "text/plain": [
       "'-----------------Mohiy------------------'"
      ]
     },
     "execution_count": 17,
     "metadata": {},
     "output_type": "execute_result"
    }
   ],
   "source": [
    "# center justified\n",
    "str =\"Mohiy\"\n",
    "str.center(40,'-')"
   ]
  },
  {
   "cell_type": "code",
   "execution_count": 18,
   "id": "383d7124-1556-4008-8fb6-d1051b822c56",
   "metadata": {},
   "outputs": [],
   "source": [
    "# 10 . what is the best way to remove whitespace characters from the start or end?\n",
    "str = \"  mohit sanjay potdar            \""
   ]
  },
  {
   "cell_type": "code",
   "execution_count": null,
   "id": "f18ed1dd-4d21-4dc6-ac35-d5070e34c835",
   "metadata": {},
   "outputs": [],
   "source": []
  }
 ],
 "metadata": {
  "kernelspec": {
   "display_name": "Python 3 (ipykernel)",
   "language": "python",
   "name": "python3"
  },
  "language_info": {
   "codemirror_mode": {
    "name": "ipython",
    "version": 3
   },
   "file_extension": ".py",
   "mimetype": "text/x-python",
   "name": "python",
   "nbconvert_exporter": "python",
   "pygments_lexer": "ipython3",
   "version": "3.10.6"
  }
 },
 "nbformat": 4,
 "nbformat_minor": 5
}
